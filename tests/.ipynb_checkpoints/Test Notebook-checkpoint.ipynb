{
 "cells": [
  {
   "cell_type": "code",
   "execution_count": 3,
   "id": "5aa7bb3b",
   "metadata": {},
   "outputs": [
    {
     "name": "stdout",
     "output_type": "stream",
     "text": [
      "\n",
      "          bfsg\n",
      "\n",
      "Internal Node\n",
      "\n",
      "                    l\n",
      "\n",
      "          Internal Node\n",
      "\n",
      "                                        foo\n",
      "\n",
      "                              Internal Node\n",
      "\n",
      "                                        poo\n",
      "\n",
      "                    Internal Node\n",
      "\n",
      "                                        barry\n",
      "\n",
      "                              Internal Node\n",
      "\n",
      "                                        pee\n"
     ]
    }
   ],
   "source": [
    "from torch_hier_softmax.main import HierSoftmax\n",
    "#testing simple huffman tree\n",
    "hier_softmax = HierSoftmax({\"poo\": 5, \"foo\":9, \"barry\":12, \"pee\":13, \"l\":16, \"bfsg\":45}, 30, 'cpu')\n",
    "hier_softmax.tree.print_tree()"
   ]
  },
  {
   "cell_type": "code",
   "execution_count": 4,
   "id": "54f9e6a9",
   "metadata": {},
   "outputs": [
    {
     "data": {
      "text/plain": [
       "[['bfsg']]"
      ]
     },
     "execution_count": 4,
     "metadata": {},
     "output_type": "execute_result"
    }
   ],
   "source": [
    "import torch\n",
    "hier_softmax.get_prob([[torch.randn(30)]])"
   ]
  }
 ],
 "metadata": {
  "kernelspec": {
   "display_name": "Python 3 (ipykernel)",
   "language": "python",
   "name": "python3"
  },
  "language_info": {
   "codemirror_mode": {
    "name": "ipython",
    "version": 3
   },
   "file_extension": ".py",
   "mimetype": "text/x-python",
   "name": "python",
   "nbconvert_exporter": "python",
   "pygments_lexer": "ipython3",
   "version": "3.9.5"
  }
 },
 "nbformat": 4,
 "nbformat_minor": 5
}
