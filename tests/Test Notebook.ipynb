{
 "cells": [
  {
   "cell_type": "code",
   "execution_count": 1,
   "id": "9d0219cd",
   "metadata": {},
   "outputs": [
    {
     "name": "stdout",
     "output_type": "stream",
     "text": [
      "\n",
      "          e\n",
      "\n",
      "Internal Node\n",
      "\n",
      "                              b\n",
      "\n",
      "                    Internal Node\n",
      "\n",
      "                              a\n",
      "\n",
      "          Internal Node\n",
      "\n",
      "                              c\n",
      "\n",
      "                    Internal Node\n",
      "\n",
      "                              d\n"
     ]
    }
   ],
   "source": [
    "from torch_hier_softmax.main import HierSoftmax\n",
    "#testing simple huffman tree\n",
    "hier_softmax = HierSoftmax({\"a\":9, \"b\":12, \"c\":13, \"d\":16, \"e\":45}, 30, 'cpu')\n",
    "hier_softmax.tree.print_tree()"
   ]
  },
  {
   "cell_type": "code",
   "execution_count": 2,
   "id": "1dae9aa4",
   "metadata": {},
   "outputs": [
    {
     "data": {
      "text/plain": [
       "[['c']]"
      ]
     },
     "execution_count": 2,
     "metadata": {},
     "output_type": "execute_result"
    }
   ],
   "source": [
    "import torch\n",
    "#example of get_prob\n",
    "hier_softmax.get_prob([[torch.randn(30)]])"
   ]
  },
  {
   "cell_type": "code",
   "execution_count": 3,
   "id": "865b19b7",
   "metadata": {},
   "outputs": [
    {
     "data": {
      "text/plain": [
       "[['b', 'e', 'b', 'c'],\n",
       " ['e', 'e', 'e', 'e'],\n",
       " ['a', 'e', 'b', 'd'],\n",
       " ['e', 'e', 'c', 'c'],\n",
       " ['e', 'e', 'a', 'e']]"
      ]
     },
     "execution_count": 3,
     "metadata": {},
     "output_type": "execute_result"
    }
   ],
   "source": [
    "import torch.nn as nn\n",
    "#simple model\n",
    "class model_one(nn.Module):\n",
    "    def __init__(self):\n",
    "        super(model_one, self).__init__()\n",
    "        self.fc1 = nn.Linear(100, 30)\n",
    "        self.smax = HierSoftmax({\"a\":9, \"b\":12, \"c\":13, \"d\":16, \"e\":45}, 30, 'cpu')\n",
    "    def forward(self, x):\n",
    "        x = self.fc1(x)\n",
    "        x = self.smax.get_prob(x)\n",
    "        return x\n",
    "    def train(self, x, y):\n",
    "        x = self.fc1(x)\n",
    "        x = self.smax.train(x,y)\n",
    "        return x\n",
    "model = model_one()\n",
    "model(torch.randn(5,4,100))"
   ]
  },
  {
   "cell_type": "code",
   "execution_count": 5,
   "id": "2a7720e6",
   "metadata": {},
   "outputs": [
    {
     "name": "stdout",
     "output_type": "stream",
     "text": [
      "True\n"
     ]
    }
   ],
   "source": [
    "loss = model.train(torch.randn(1,1,100),[['e']])\n",
    "loss.backward()"
   ]
  },
  {
   "cell_type": "code",
   "execution_count": null,
   "id": "6e0544d1",
   "metadata": {},
   "outputs": [],
   "source": []
  },
  {
   "cell_type": "code",
   "execution_count": null,
   "id": "042f29a4",
   "metadata": {},
   "outputs": [],
   "source": []
  },
  {
   "cell_type": "code",
   "execution_count": null,
   "id": "9aebd06b",
   "metadata": {},
   "outputs": [],
   "source": []
  }
 ],
 "metadata": {
  "kernelspec": {
   "display_name": "Python 3 (ipykernel)",
   "language": "python",
   "name": "python3"
  },
  "language_info": {
   "codemirror_mode": {
    "name": "ipython",
    "version": 3
   },
   "file_extension": ".py",
   "mimetype": "text/x-python",
   "name": "python",
   "nbconvert_exporter": "python",
   "pygments_lexer": "ipython3",
   "version": "3.9.5"
  }
 },
 "nbformat": 4,
 "nbformat_minor": 5
}
